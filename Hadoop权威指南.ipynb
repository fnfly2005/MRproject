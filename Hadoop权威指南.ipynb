{
 "cells": [
  {
   "cell_type": "markdown",
   "metadata": {},
   "source": [
    "# 6 MapReduce应用开发"
   ]
  },
  {
   "cell_type": "markdown",
   "metadata": {},
   "source": [
    "## 6.7 MapReduce的工作流"
   ]
  },
  {
   "cell_type": "markdown",
   "metadata": {},
   "source": [
    "### 6.7.3 关于Apache Oozie\n",
    "负责运行工作流的系统（工作流由互相依赖的作业组成）  \n",
    "由两部分组成：\n",
    "* 一个工作流引擎，负责存储和运行由不同类型hadoop作业组成的工作流\n",
    "* 一个coordinator引擎，负责基于预定义的调度策略及数据可用性运行工作流作业\n",
    "\n",
    "\n",
    "1. 定义Oozie工作流  \n",
    "工作流定义是使用Hadoop Process Difinition Language以XML格式书写，这个规范可在Oozie网站\n",
    "http://oozie.apache.org/ 找到\n"
   ]
  }
 ],
 "metadata": {
  "kernelspec": {
   "display_name": "Python 3",
   "language": "python",
   "name": "python3"
  },
  "language_info": {
   "codemirror_mode": {
    "name": "ipython",
    "version": 3
   },
   "file_extension": ".py",
   "mimetype": "text/x-python",
   "name": "python",
   "nbconvert_exporter": "python",
   "pygments_lexer": "ipython3",
   "version": "3.7.1"
  }
 },
 "nbformat": 4,
 "nbformat_minor": 2
}
